{
 "cells": [
  {
   "cell_type": "markdown",
   "metadata": {},
   "source": [
    "This data set was taken from the World Bank DataBank. It looks at the U.S. population from 2016 to 2021"
   ]
  },
  {
   "cell_type": "code",
   "execution_count": 82,
   "metadata": {},
   "outputs": [],
   "source": [
    "import pandas as pd\n",
    "import numpy as np"
   ]
  },
  {
   "cell_type": "code",
   "execution_count": 83,
   "metadata": {},
   "outputs": [],
   "source": [
    "df = pd.read_excel(\"us_population.xlsx\")"
   ]
  },
  {
   "cell_type": "code",
   "execution_count": 84,
   "metadata": {},
   "outputs": [
    {
     "name": "stdout",
     "output_type": "stream",
     "text": [
      "(6, 7)\n"
     ]
    }
   ],
   "source": [
    "print(df.shape)"
   ]
  },
  {
   "cell_type": "code",
   "execution_count": 85,
   "metadata": {},
   "outputs": [
    {
     "name": "stdout",
     "output_type": "stream",
     "text": [
      "  [WDI_Series].[Topic].[Indicator Name].[MEMBER_CAPTION]          2016  \\\n",
      "0                                  Population, total      3.230718e+08   \n",
      "1                                   Population, male      1.598258e+08   \n",
      "2                                 Population, female      1.632459e+08   \n",
      "3            Life expectancy at birth, total (years)      7.853902e+01   \n",
      "4             Life expectancy at birth, male (years)      7.610000e+01   \n",
      "5           Life expectancy at birth, female (years)      8.110000e+01   \n",
      "\n",
      "           2017          2018          2019          2020         2021  \n",
      "0  3.251221e+08  3.268382e+08  3.283300e+08  3.315011e+08  331893745.0  \n",
      "1  1.608594e+08  1.617195e+08  1.624626e+08  1.640326e+08  164224068.0  \n",
      "2  1.642627e+08  1.651187e+08  1.658673e+08  1.674684e+08  167669677.0  \n",
      "3  7.853902e+01  7.863902e+01  7.878780e+01  7.728049e+01          NaN  \n",
      "4  7.610000e+01  7.620000e+01  7.630000e+01  7.450000e+01          NaN  \n",
      "5  8.110000e+01  8.120000e+01  8.140000e+01  8.020000e+01          NaN  \n"
     ]
    }
   ],
   "source": [
    "print(df)"
   ]
  },
  {
   "cell_type": "code",
   "execution_count": 86,
   "metadata": {},
   "outputs": [
    {
     "data": {
      "text/plain": [
       "Index(['[WDI_Series].[Topic].[Indicator Name].[MEMBER_CAPTION]', '2016',\n",
       "       '2017', '2018', '2019', '2020', '2021'],\n",
       "      dtype='object')"
      ]
     },
     "execution_count": 86,
     "metadata": {},
     "output_type": "execute_result"
    }
   ],
   "source": [
    "df.columns"
   ]
  },
  {
   "cell_type": "markdown",
   "metadata": {},
   "source": [
    "After reviewing the column names I changed the first column name to Topic."
   ]
  },
  {
   "cell_type": "code",
   "execution_count": 87,
   "metadata": {},
   "outputs": [
    {
     "data": {
      "text/plain": [
       "Index(['Topic', '2016', '2017', '2018', '2019', '2020', '2021'], dtype='object')"
      ]
     },
     "execution_count": 87,
     "metadata": {},
     "output_type": "execute_result"
    }
   ],
   "source": [
    "fixed_columns = {   \n",
    "    '[WDI_Series].[Topic].[Indicator Name].[MEMBER_CAPTION]': 'Topic'\n",
    "}\n",
    "\n",
    "df.rename(columns=fixed_columns, inplace=True)\n",
    "df.columns"
   ]
  },
  {
   "cell_type": "code",
   "execution_count": 88,
   "metadata": {},
   "outputs": [
    {
     "name": "stdout",
     "output_type": "stream",
     "text": [
      "                                      Topic          2016          2017  \\\n",
      "0                         Population, total  3.230718e+08  3.251221e+08   \n",
      "1                          Population, male  1.598258e+08  1.608594e+08   \n",
      "2                        Population, female  1.632459e+08  1.642627e+08   \n",
      "3   Life expectancy at birth, total (years)  7.853902e+01  7.853902e+01   \n",
      "4    Life expectancy at birth, male (years)  7.610000e+01  7.610000e+01   \n",
      "5  Life expectancy at birth, female (years)  8.110000e+01  8.110000e+01   \n",
      "\n",
      "           2018          2019          2020         2021  \n",
      "0  3.268382e+08  3.283300e+08  3.315011e+08  331893745.0  \n",
      "1  1.617195e+08  1.624626e+08  1.640326e+08  164224068.0  \n",
      "2  1.651187e+08  1.658673e+08  1.674684e+08  167669677.0  \n",
      "3  7.863902e+01  7.878780e+01  7.728049e+01          NaN  \n",
      "4  7.620000e+01  7.630000e+01  7.450000e+01          NaN  \n",
      "5  8.120000e+01  8.140000e+01  8.020000e+01          NaN  \n"
     ]
    }
   ],
   "source": [
    "print(df)"
   ]
  },
  {
   "cell_type": "code",
   "execution_count": 89,
   "metadata": {},
   "outputs": [
    {
     "data": {
      "text/plain": [
       "Topic     object\n",
       "2016     float64\n",
       "2017     float64\n",
       "2018     float64\n",
       "2019     float64\n",
       "2020     float64\n",
       "2021     float64\n",
       "dtype: object"
      ]
     },
     "execution_count": 89,
     "metadata": {},
     "output_type": "execute_result"
    }
   ],
   "source": [
    "df.dtypes"
   ]
  },
  {
   "cell_type": "markdown",
   "metadata": {},
   "source": [
    "For this column I changed the NaN values to reflect 0"
   ]
  },
  {
   "cell_type": "code",
   "execution_count": 94,
   "metadata": {},
   "outputs": [],
   "source": [
    "df['2021'] = df['2021'].fillna(0).astype(np.int64)"
   ]
  },
  {
   "cell_type": "code",
   "execution_count": 95,
   "metadata": {},
   "outputs": [
    {
     "name": "stdout",
     "output_type": "stream",
     "text": [
      "                                      Topic          2016          2017  \\\n",
      "0                         Population, total  3.230718e+08  3.251221e+08   \n",
      "1                          Population, male  1.598258e+08  1.608594e+08   \n",
      "2                        Population, female  1.632459e+08  1.642627e+08   \n",
      "3   Life expectancy at birth, total (years)  7.853902e+01  7.853902e+01   \n",
      "4    Life expectancy at birth, male (years)  7.610000e+01  7.610000e+01   \n",
      "5  Life expectancy at birth, female (years)  8.110000e+01  8.110000e+01   \n",
      "\n",
      "           2018          2019          2020       2021  \n",
      "0  3.268382e+08  3.283300e+08  3.315011e+08  331893745  \n",
      "1  1.617195e+08  1.624626e+08  1.640326e+08  164224068  \n",
      "2  1.651187e+08  1.658673e+08  1.674684e+08  167669677  \n",
      "3  7.863902e+01  7.878780e+01  7.728049e+01          0  \n",
      "4  7.620000e+01  7.630000e+01  7.450000e+01          0  \n",
      "5  8.120000e+01  8.140000e+01  8.020000e+01          0  \n"
     ]
    }
   ],
   "source": [
    "print(df)"
   ]
  },
  {
   "cell_type": "code",
   "execution_count": 100,
   "metadata": {},
   "outputs": [
    {
     "data": {
      "text/plain": [
       "0    323071755\n",
       "1    159825817\n",
       "2    163245938\n",
       "3           78\n",
       "4           76\n",
       "5           81\n",
       "Name: 2016, dtype: int64"
      ]
     },
     "execution_count": 100,
     "metadata": {},
     "output_type": "execute_result"
    }
   ],
   "source": [
    "df['2016'].astype(np.int64)"
   ]
  }
 ],
 "metadata": {
  "kernelspec": {
   "display_name": "Python 3.10.8 64-bit (microsoft store)",
   "language": "python",
   "name": "python3"
  },
  "language_info": {
   "codemirror_mode": {
    "name": "ipython",
    "version": 3
   },
   "file_extension": ".py",
   "mimetype": "text/x-python",
   "name": "python",
   "nbconvert_exporter": "python",
   "pygments_lexer": "ipython3",
   "version": "3.10.8"
  },
  "orig_nbformat": 4,
  "vscode": {
   "interpreter": {
    "hash": "341d4840b7d8a37649017f6e4e67850345bc5b036da331a9645c8cb48b1715a2"
   }
  }
 },
 "nbformat": 4,
 "nbformat_minor": 2
}
